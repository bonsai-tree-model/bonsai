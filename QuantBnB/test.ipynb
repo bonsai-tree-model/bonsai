{
 "cells": [
  {
   "cell_type": "code",
   "execution_count": null,
   "metadata": {},
   "outputs": [],
   "source": [
    "using Pkg\n",
    "Pkg.add(\"CSV\")\n",
    "Pkg.add(\"DataFrames\")\n",
    "Pkg.add(\"DecisionTree\")\n",
    "Pkg.add(\"MLJ\")        # MLJ 프레임워크\n",
    "Pkg.add(\"MLJModels\")  # 모델 및 변환기 포함\n",
    "Pkg.add(\"DataFrames\")\n",
    "Pkg.add(\"CategoricalArrays\")"
   ]
  },
  {
   "cell_type": "code",
   "execution_count": 3,
   "metadata": {},
   "outputs": [
    {
     "name": "stderr",
     "output_type": "stream",
     "text": [
      "\u001b[32m\u001b[1m    Updating\u001b[22m\u001b[39m registry at `C:\\Users\\maps\\.julia\\registries\\General.toml`\n",
      "\u001b[32m\u001b[1m   Resolving\u001b[22m\u001b[39m package versions...\n",
      "\u001b[32m\u001b[1m   Installed\u001b[22m\u001b[39m CodeTracking ───── v1.3.9\n",
      "\u001b[32m\u001b[1m   Installed\u001b[22m\u001b[39m JuliaInterpreter ─ v0.9.46\n",
      "\u001b[32m\u001b[1m   Installed\u001b[22m\u001b[39m Highlights ─────── v0.5.3\n",
      "\u001b[32m\u001b[1m   Installed\u001b[22m\u001b[39m Debugger ───────── v0.7.11\n",
      "\u001b[32m\u001b[1m    Updating\u001b[22m\u001b[39m `C:\\Users\\maps\\.julia\\environments\\v1.11\\Project.toml`\n",
      "  \u001b[90m[31a5f54b] \u001b[39m\u001b[92m+ Debugger v0.7.11\u001b[39m\n",
      "\u001b[32m\u001b[1m    Updating\u001b[22m\u001b[39m `C:\\Users\\maps\\.julia\\environments\\v1.11\\Manifest.toml`\n",
      "  \u001b[90m[da1fd8a2] \u001b[39m\u001b[92m+ CodeTracking v1.3.9\u001b[39m\n",
      "  \u001b[90m[31a5f54b] \u001b[39m\u001b[92m+ Debugger v0.7.11\u001b[39m\n",
      "  \u001b[90m[eafb193a] \u001b[39m\u001b[92m+ Highlights v0.5.3\u001b[39m\n",
      "\u001b[33m⌅\u001b[39m \u001b[90m[aa1ae85d] \u001b[39m\u001b[92m+ JuliaInterpreter v0.9.46\u001b[39m\n",
      "\u001b[36m\u001b[1m        Info\u001b[22m\u001b[39m Packages marked with \u001b[33m⌅\u001b[39m have new versions available but compatibility constraints restrict them from upgrading. To see why use `status --outdated -m`\n",
      "\u001b[92m\u001b[1mPrecompiling\u001b[22m\u001b[39m project...\n",
      "    896.1 ms\u001b[32m  ✓ \u001b[39m\u001b[90mCodeTracking\u001b[39m\n",
      "   2652.6 ms\u001b[32m  ✓ \u001b[39m\u001b[90mHighlights\u001b[39m\n",
      "   4444.4 ms\u001b[32m  ✓ \u001b[39m\u001b[90mJuliaInterpreter\u001b[39m\n",
      "   1604.7 ms\u001b[32m  ✓ \u001b[39mDebugger\n",
      "  4 dependencies successfully precompiled in 8 seconds. 219 already precompiled.\n",
      "  \u001b[33m1\u001b[39m dependency had output during precompilation:\u001b[33m\n",
      "┌ \u001b[39mDebugger\u001b[33m\n",
      "│  \u001b[39m\u001b[33m\u001b[1m┌ \u001b[22m\u001b[39m\u001b[33m\u001b[1mWarning: \u001b[22m\u001b[39m`@lookup` at C:\\Users\\maps\\.julia\\packages\\Debugger\\wueAn\\src\\printing.jl:73 is deprecated, use `lookup(frame, node)` instead.\u001b[33m\n",
      "│  \u001b[39m\u001b[33m\u001b[1m└ \u001b[22m\u001b[39m\u001b[90m@ JuliaInterpreter C:\\Users\\maps\\.julia\\packages\\JuliaInterpreter\\ZNccU\\src\\interpret.jl:41\u001b[39m\u001b[33m\n",
      "│  \u001b[39m\u001b[33m\u001b[1m┌ \u001b[22m\u001b[39m\u001b[33m\u001b[1mWarning: \u001b[22m\u001b[39m`@lookup` at C:\\Users\\maps\\.julia\\packages\\Debugger\\wueAn\\src\\printing.jl:108 is deprecated, use `lookup(frame, node)` instead.\u001b[33m\n",
      "│  \u001b[39m\u001b[33m\u001b[1m└ \u001b[22m\u001b[39m\u001b[90m@ JuliaInterpreter C:\\Users\\maps\\.julia\\packages\\JuliaInterpreter\\ZNccU\\src\\interpret.jl:41\u001b[39m\u001b[33m\n",
      "│  \u001b[39m\u001b[33m\u001b[1m┌ \u001b[22m\u001b[39m\u001b[33m\u001b[1mWarning: \u001b[22m\u001b[39m`@lookup` at C:\\Users\\maps\\.julia\\packages\\Debugger\\wueAn\\src\\printing.jl:119 is deprecated, use `lookup(frame, node)` instead.\u001b[33m\n",
      "│  \u001b[39m\u001b[33m\u001b[1m└ \u001b[22m\u001b[39m\u001b[90m@ JuliaInterpreter C:\\Users\\maps\\.julia\\packages\\JuliaInterpreter\\ZNccU\\src\\interpret.jl:41\u001b[39m\u001b[33m\n",
      "└  \u001b[39m\n"
     ]
    },
    {
     "data": {
      "text/plain": [
       "myfindinterval (generic function with 1 method)"
      ]
     },
     "metadata": {},
     "output_type": "display_data"
    }
   ],
   "source": [
    "\n",
    "using LinearAlgebra\n",
    "using Printf\n",
    "using CSV\n",
    "using DataFrames\n",
    "using DecisionTree\n",
    "using DataFrames, CategoricalArrays, MLJ\n",
    "using Pkg\n",
    "Pkg.add(\"Debugger\")\n",
    "include(\"QuantBnB-2D.jl\")\n",
    "include(\"QuantBnB-3D.jl\")\n",
    "include(\"gen_data.jl\")\n",
    "include(\"lowerbound_middle.jl\")\n",
    "include(\"Algorithms.jl\")"
   ]
  },
  {
   "cell_type": "code",
   "execution_count": null,
   "metadata": {},
   "outputs": [
    {
     "name": "stdout",
     "output_type": "stream",
     "text": [
      "Total number of trees = 204304\n",
      "Total number of intervals = 256\n",
      "--------------------------------------\n",
      "Loop 1\n",
      "Number of remaining trees = 127487\n",
      "Total number of intervals = 1444\n",
      "Current objective = 2.0\n",
      "time = 5.359999895095825\n",
      "--------------------------------------\n",
      "Loop 2\n",
      "Number of remaining trees = 61324\n",
      "Total number of intervals = 6195\n",
      "Current objective = 1.0\n",
      "time = 0.9550001621246338\n",
      "--------------------------------------\n",
      "Obj = 0.0\n",
      "Tree is Any[1, 5.95, Any[3, 2.45, Any[1, 4.35, [1.0 0.0 0.0], [1.0 0.0 0.0]], Any[3, 4.85, [0.0 1.0 0.0], [0.0 0.0 1.0]]], Any[4, 1.55, Any[3, 4.95, [0.0 1.0 0.0], [0.0 0.0 1.0]], Any[1, 6.1, [0.0 1.0 0.0], [0.0 0.0 1.0]]]]\n",
      "total time = 6.947000026702881\n",
      "Dataset: occupancy,  ,  Quant-BnB train/test acc: 1.000 / 0.911"
     ]
    },
    {
     "ename": "LoadError",
     "evalue": "LoadError: ArgumentError: No format string provided to `@printf` - use like `@printf [io] <format string> [<args...>].\nin expression starting at c:\\Users\\maps\\Desktop\\QuantBnB\\jl_notebook_cell_df34fa98e69747e1a8f8a730347b8e2f_W2sZmlsZQ==.jl:13",
     "output_type": "error",
     "traceback": [
      "LoadError: ArgumentError: No format string provided to `@printf` - use like `@printf [io] <format string> [<args...>].\n",
      "in expression starting at c:\\Users\\maps\\Desktop\\QuantBnB\\jl_notebook_cell_df34fa98e69747e1a8f8a730347b8e2f_W2sZmlsZQ==.jl:13\n",
      "\n",
      "Stacktrace:\n",
      "  [1] var\"@printf\"(__source__::LineNumberNode, __module__::Module, io_or_fmt::Any, args::Vararg{Any})\n",
      "    @ Printf C:\\Users\\maps\\AppData\\Local\\Programs\\Julia-1.11.5\\share\\julia\\stdlib\\v1.11\\Printf\\src\\Printf.jl:1014\n",
      "  [2] eval\n",
      "    @ .\\boot.jl:430 [inlined]\n",
      "  [3] include_string(mapexpr::typeof(REPL.softscope), mod::Module, code::String, filename::String)\n",
      "    @ Base .\\loading.jl:2734\n",
      "  [4] #invokelatest#2\n",
      "    @ .\\essentials.jl:1055 [inlined]\n",
      "  [5] invokelatest\n",
      "    @ .\\essentials.jl:1052 [inlined]\n",
      "  [6] (::VSCodeServer.var\"#217#218\"{VSCodeServer.NotebookRunCellArguments, String})()\n",
      "    @ VSCodeServer c:\\Users\\maps\\.vscode\\extensions\\julialang.language-julia-1.127.2\\scripts\\packages\\VSCodeServer\\src\\serve_notebook.jl:24\n",
      "  [7] withpath(f::VSCodeServer.var\"#217#218\"{VSCodeServer.NotebookRunCellArguments, String}, path::String)\n",
      "    @ VSCodeServer c:\\Users\\maps\\.vscode\\extensions\\julialang.language-julia-1.127.2\\scripts\\packages\\VSCodeServer\\src\\repl.jl:276\n",
      "  [8] notebook_runcell_request(conn::VSCodeServer.JSONRPC.JSONRPCEndpoint{Base.PipeEndpoint, Base.PipeEndpoint}, params::VSCodeServer.NotebookRunCellArguments)\n",
      "    @ VSCodeServer c:\\Users\\maps\\.vscode\\extensions\\julialang.language-julia-1.127.2\\scripts\\packages\\VSCodeServer\\src\\serve_notebook.jl:13\n",
      "  [9] dispatch_msg(x::VSCodeServer.JSONRPC.JSONRPCEndpoint{Base.PipeEndpoint, Base.PipeEndpoint}, dispatcher::VSCodeServer.JSONRPC.MsgDispatcher, msg::Dict{String, Any})\n",
      "    @ VSCodeServer.JSONRPC c:\\Users\\maps\\.vscode\\extensions\\julialang.language-julia-1.127.2\\scripts\\packages\\JSONRPC\\src\\typed.jl:67\n",
      " [10] serve_notebook(pipename::String, debugger_pipename::String, outputchannel_logger::Base.CoreLogging.SimpleLogger; error_handler::var\"#5#10\"{String})\n",
      "    @ VSCodeServer c:\\Users\\maps\\.vscode\\extensions\\julialang.language-julia-1.127.2\\scripts\\packages\\VSCodeServer\\src\\serve_notebook.jl:147\n",
      " [11] top-level scope\n",
      "    @ c:\\Users\\maps\\.vscode\\extensions\\julialang.language-julia-1.127.2\\scripts\\notebook\\notebook.jl:35"
     ]
    }
   ],
   "source": [
    "\n",
    "# test depth-3 trees on a classification problem\n",
    "X_train, X_test, Y_train, Y_test = generate_realdata(string(\"./dataset/\",\"iris\",\".json\"))\n",
    "\n",
    "n_train, m = size(Y_train)\n",
    "n_test, _ = size(Y_test)\n",
    "gre_train, gre_tree = greedy_tree(X_train, Y_train, 3, \"C\")\n",
    "opt_train, opt_tree = QuantBnB_3D(X_train, Y_train, 3, 3, gre_train*(1+1e-6), 0, 0, nothing, \"C\", 300)\n",
    "\n",
    "opt_test = sum((Y_test - tree_eval(opt_tree, X_test, 3, m)).>0)\n",
    "@printf(\"Dataset: %s,  ,  Quant-BnB train/test acc: %.3f / %.3f\", \"occupancy\", 1-opt_train/n_train,1-opt_test/n_test)\n",
    "\n"
   ]
  },
  {
   "cell_type": "code",
   "execution_count": null,
   "metadata": {},
   "outputs": [],
   "source": []
  },
  {
   "cell_type": "code",
   "execution_count": null,
   "metadata": {},
   "outputs": [],
   "source": []
  },
  {
   "cell_type": "code",
   "execution_count": null,
   "metadata": {},
   "outputs": [],
   "source": []
  },
  {
   "cell_type": "code",
   "execution_count": null,
   "metadata": {},
   "outputs": [],
   "source": []
  },
  {
   "cell_type": "code",
   "execution_count": null,
   "metadata": {},
   "outputs": [],
   "source": []
  },
  {
   "cell_type": "code",
   "execution_count": null,
   "metadata": {},
   "outputs": [],
   "source": []
  }
 ],
 "metadata": {
  "kernelspec": {
   "display_name": "Julia 1.11.5",
   "language": "julia",
   "name": "julia-1.11"
  },
  "language_info": {
   "file_extension": ".jl",
   "mimetype": "application/julia",
   "name": "julia",
   "version": "1.11.5"
  },
  "orig_nbformat": 4
 },
 "nbformat": 4,
 "nbformat_minor": 2
}
